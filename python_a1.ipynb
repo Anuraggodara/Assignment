{
 "cells": [
  {
   "cell_type": "code",
   "execution_count": null,
   "id": "65d952f4-9140-467e-a354-4fc8a71ab047",
   "metadata": {},
   "outputs": [],
   "source": [
    "#Question 3"
   ]
  },
  {
   "cell_type": "code",
   "execution_count": 1,
   "id": "3b501cc6-00bf-49f8-9842-0eea44e4c6b6",
   "metadata": {},
   "outputs": [],
   "source": [
    "import pandas as pd"
   ]
  },
  {
   "cell_type": "code",
   "execution_count": 21,
   "id": "99bb32a1-7f60-44ad-bca5-9a8520f70ff8",
   "metadata": {},
   "outputs": [],
   "source": [
    "data= {\"Name\": ['Alice','Bob','Claire'], \"Age\": [25,30,27], 'Gender': ['Female', 'Male', 'Female']}"
   ]
  },
  {
   "cell_type": "code",
   "execution_count": 22,
   "id": "ea786ff6-02c4-4299-bdf1-fcd1be92c6af",
   "metadata": {},
   "outputs": [],
   "source": [
    "df= pd.DataFrame(data)"
   ]
  },
  {
   "cell_type": "code",
   "execution_count": 23,
   "id": "b468c816-9e6e-4b86-9043-e31862482e09",
   "metadata": {},
   "outputs": [
    {
     "data": {
      "text/html": [
       "<div>\n",
       "<style scoped>\n",
       "    .dataframe tbody tr th:only-of-type {\n",
       "        vertical-align: middle;\n",
       "    }\n",
       "\n",
       "    .dataframe tbody tr th {\n",
       "        vertical-align: top;\n",
       "    }\n",
       "\n",
       "    .dataframe thead th {\n",
       "        text-align: right;\n",
       "    }\n",
       "</style>\n",
       "<table border=\"1\" class=\"dataframe\">\n",
       "  <thead>\n",
       "    <tr style=\"text-align: right;\">\n",
       "      <th></th>\n",
       "      <th>Name</th>\n",
       "      <th>Age</th>\n",
       "      <th>Gender</th>\n",
       "    </tr>\n",
       "  </thead>\n",
       "  <tbody>\n",
       "    <tr>\n",
       "      <th>0</th>\n",
       "      <td>Alice</td>\n",
       "      <td>25</td>\n",
       "      <td>Female</td>\n",
       "    </tr>\n",
       "    <tr>\n",
       "      <th>1</th>\n",
       "      <td>Bob</td>\n",
       "      <td>30</td>\n",
       "      <td>Male</td>\n",
       "    </tr>\n",
       "    <tr>\n",
       "      <th>2</th>\n",
       "      <td>Claire</td>\n",
       "      <td>27</td>\n",
       "      <td>Female</td>\n",
       "    </tr>\n",
       "  </tbody>\n",
       "</table>\n",
       "</div>"
      ],
      "text/plain": [
       "     Name  Age  Gender\n",
       "0   Alice   25  Female\n",
       "1     Bob   30    Male\n",
       "2  Claire   27  Female"
      ]
     },
     "execution_count": 23,
     "metadata": {},
     "output_type": "execute_result"
    }
   ],
   "source": [
    "df"
   ]
  },
  {
   "cell_type": "code",
   "execution_count": null,
   "id": "e17b93a8-66c4-4f1d-b4a6-8a8d2ba7771b",
   "metadata": {},
   "outputs": [],
   "source": []
  },
  {
   "cell_type": "code",
   "execution_count": null,
   "id": "89a8de5f-26ca-4c86-b1b3-b1d085dcfcc4",
   "metadata": {},
   "outputs": [],
   "source": [
    "#Question 1"
   ]
  },
  {
   "cell_type": "code",
   "execution_count": 36,
   "id": "d8f773e9-652d-4fec-a7e8-bf5230b6e809",
   "metadata": {},
   "outputs": [],
   "source": [
    "a=[4,8,15,16,23,42]"
   ]
  },
  {
   "cell_type": "code",
   "execution_count": 37,
   "id": "a6212618-ef37-4728-a767-b5198ad4c72b",
   "metadata": {},
   "outputs": [],
   "source": [
    "series= pd.Series(a)"
   ]
  },
  {
   "cell_type": "code",
   "execution_count": 38,
   "id": "bdd6fb9c-27eb-4ac3-96c2-dc9f1ffb4a65",
   "metadata": {},
   "outputs": [
    {
     "data": {
      "text/plain": [
       "0     4\n",
       "1     8\n",
       "2    15\n",
       "3    16\n",
       "4    23\n",
       "5    42\n",
       "dtype: int64"
      ]
     },
     "execution_count": 38,
     "metadata": {},
     "output_type": "execute_result"
    }
   ],
   "source": [
    "series"
   ]
  },
  {
   "cell_type": "code",
   "execution_count": null,
   "id": "682f76d4-a544-499b-8a41-e66427a9f03a",
   "metadata": {},
   "outputs": [],
   "source": []
  },
  {
   "cell_type": "code",
   "execution_count": null,
   "id": "64349d1a-7cb1-429a-943f-2f229022c8db",
   "metadata": {},
   "outputs": [],
   "source": [
    "#Question 2"
   ]
  },
  {
   "cell_type": "code",
   "execution_count": 39,
   "id": "f58d36b8-310a-4017-9257-b6b6fd79c363",
   "metadata": {},
   "outputs": [],
   "source": [
    "list= [2,3,4,5,6,7,8,9,10,12]"
   ]
  },
  {
   "cell_type": "code",
   "execution_count": 40,
   "id": "444f3bd9-22b1-46df-9eb7-c1463d6ada27",
   "metadata": {},
   "outputs": [],
   "source": [
    "list_series= pd.Series(list)"
   ]
  },
  {
   "cell_type": "code",
   "execution_count": 41,
   "id": "0f6d2414-dde1-4e68-8557-d7646958330a",
   "metadata": {},
   "outputs": [
    {
     "data": {
      "text/plain": [
       "0     2\n",
       "1     3\n",
       "2     4\n",
       "3     5\n",
       "4     6\n",
       "5     7\n",
       "6     8\n",
       "7     9\n",
       "8    10\n",
       "9    12\n",
       "dtype: int64"
      ]
     },
     "execution_count": 41,
     "metadata": {},
     "output_type": "execute_result"
    }
   ],
   "source": [
    "list_series"
   ]
  },
  {
   "cell_type": "code",
   "execution_count": null,
   "id": "c7c31ec4-9fa4-464c-878f-898bdc23b5b6",
   "metadata": {},
   "outputs": [],
   "source": []
  },
  {
   "cell_type": "code",
   "execution_count": null,
   "id": "dbdfc93f-47a4-403b-9584-5abbf51e89ac",
   "metadata": {},
   "outputs": [],
   "source": [
    "#Question 4"
   ]
  },
  {
   "cell_type": "markdown",
   "id": "19b5f3e8-50d8-4d7d-b19b-bc7eead277b9",
   "metadata": {},
   "source": [
    "In Pandas, a DataFrame is a two-dimensional labeled data structure with columns of potentially different data types, similar to a spreadsheet.\n",
    "A Pandas Series, on the other hand, is a one-dimensional labeled array that can hold data of any type (integer, float, string, etc\n",
    "Question 1 and 3 are the example of Series and Data Type."
   ]
  },
  {
   "cell_type": "code",
   "execution_count": null,
   "id": "1e8fe796-4af2-448a-9af3-0a685c7543a2",
   "metadata": {},
   "outputs": [],
   "source": []
  },
  {
   "cell_type": "code",
   "execution_count": null,
   "id": "d405af42-76da-4b6d-9972-891177445b61",
   "metadata": {},
   "outputs": [],
   "source": [
    "#Question 5"
   ]
  },
  {
   "cell_type": "markdown",
   "id": "19ff4607-9f81-4d5f-a542-67372a5e9bcf",
   "metadata": {},
   "source": [
    "some common functions you can use to manipulate data in a Pandas DataFrame are:\n",
    "1) head()\n",
    "2) tail()\n",
    "3) drop()\n",
    "4) groupby()\n",
    "5) merge()\n",
    "6) sort_values()\n",
    "\n",
    "Example: Suppose you have a DataFrame with data on student grades and you want to sort the data by the student's final            grades in descending order to see who performed the best in the class. You can use the sort_values() function            to accomplish this."
   ]
  },
  {
   "cell_type": "code",
   "execution_count": null,
   "id": "c0b41d76-e9e2-4be2-8d19-0b0cd888fc9c",
   "metadata": {},
   "outputs": [],
   "source": []
  },
  {
   "cell_type": "code",
   "execution_count": null,
   "id": "dc308061-8330-4969-a9d1-11858cb97602",
   "metadata": {},
   "outputs": [],
   "source": [
    "#Question 6"
   ]
  },
  {
   "cell_type": "markdown",
   "id": "bb26a90f-a137-42b7-9b52-cd4d791afb0c",
   "metadata": {},
   "source": [
    "Series and DataFrame are mutable in nature"
   ]
  },
  {
   "cell_type": "code",
   "execution_count": null,
   "id": "2e786530-871c-4dcc-b283-b57b3327295b",
   "metadata": {},
   "outputs": [],
   "source": []
  },
  {
   "cell_type": "code",
   "execution_count": null,
   "id": "11357b48-6ecd-4f8c-abc3-41ef74229e89",
   "metadata": {},
   "outputs": [],
   "source": [
    "#Question 7"
   ]
  },
  {
   "cell_type": "code",
   "execution_count": 45,
   "id": "a6a0265f-53ca-46aa-9258-be31ef23ca67",
   "metadata": {},
   "outputs": [],
   "source": [
    "import pandas as pd"
   ]
  },
  {
   "cell_type": "code",
   "execution_count": 50,
   "id": "661f68e5-f768-45e3-bf26-9cfafafb1713",
   "metadata": {},
   "outputs": [],
   "source": [
    "name = pd.Series(['Alice', 'Bob'])"
   ]
  },
  {
   "cell_type": "code",
   "execution_count": 51,
   "id": "8bc628da-26a9-4fb8-91d5-2384a391a7ca",
   "metadata": {},
   "outputs": [],
   "source": [
    "age= pd.Series([33,53])"
   ]
  },
  {
   "cell_type": "code",
   "execution_count": 57,
   "id": "5b1da6e0-a798-461e-81d2-b90090e9ef4a",
   "metadata": {},
   "outputs": [
    {
     "data": {
      "text/html": [
       "<div>\n",
       "<style scoped>\n",
       "    .dataframe tbody tr th:only-of-type {\n",
       "        vertical-align: middle;\n",
       "    }\n",
       "\n",
       "    .dataframe tbody tr th {\n",
       "        vertical-align: top;\n",
       "    }\n",
       "\n",
       "    .dataframe thead th {\n",
       "        text-align: right;\n",
       "    }\n",
       "</style>\n",
       "<table border=\"1\" class=\"dataframe\">\n",
       "  <thead>\n",
       "    <tr style=\"text-align: right;\">\n",
       "      <th></th>\n",
       "      <th>Name</th>\n",
       "      <th>Age</th>\n",
       "    </tr>\n",
       "  </thead>\n",
       "  <tbody>\n",
       "    <tr>\n",
       "      <th>0</th>\n",
       "      <td>Alice</td>\n",
       "      <td>33</td>\n",
       "    </tr>\n",
       "    <tr>\n",
       "      <th>1</th>\n",
       "      <td>Bob</td>\n",
       "      <td>53</td>\n",
       "    </tr>\n",
       "  </tbody>\n",
       "</table>\n",
       "</div>"
      ],
      "text/plain": [
       "    Name  Age\n",
       "0  Alice   33\n",
       "1    Bob   53"
      ]
     },
     "execution_count": 57,
     "metadata": {},
     "output_type": "execute_result"
    }
   ],
   "source": [
    "pd.DataFrame({'Name': name, 'Age': age})"
   ]
  },
  {
   "cell_type": "code",
   "execution_count": null,
   "id": "ea08890c-bd42-4e72-83b3-42b1ec261870",
   "metadata": {},
   "outputs": [],
   "source": []
  }
 ],
 "metadata": {
  "kernelspec": {
   "display_name": "Python 3 (ipykernel)",
   "language": "python",
   "name": "python3"
  },
  "language_info": {
   "codemirror_mode": {
    "name": "ipython",
    "version": 3
   },
   "file_extension": ".py",
   "mimetype": "text/x-python",
   "name": "python",
   "nbconvert_exporter": "python",
   "pygments_lexer": "ipython3",
   "version": "3.10.8"
  }
 },
 "nbformat": 4,
 "nbformat_minor": 5
}
